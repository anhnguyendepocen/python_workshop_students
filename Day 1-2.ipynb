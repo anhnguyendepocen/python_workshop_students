{
 "cells": [
  {
   "cell_type": "markdown",
   "metadata": {
    "slideshow": {
     "slide_type": "slide"
    }
   },
   "source": [
    "# Introduction to Python 1\n",
    "## Learning Goals\n",
    "\n",
    "- Learn the basic syntax, expressions, and statements in Python\n",
    "- Learn how to work with simple datasets using files and dictionaries\n",
    "- Learn how to create and customize your own functions\n",
    "- Learn about Python error messages\n",
    "- Learn some of the basics of the NumPy package and how to work with Numpy arrays\n",
    "- Learn the basics of the Pandas package\n",
    "\n",
    "source: `www.dataquest.io`"
   ]
  },
  {
   "cell_type": "markdown",
   "metadata": {
    "slideshow": {
     "slide_type": "subslide"
    }
   },
   "source": [
    "## Variables and Data Types\n",
    "There are three basic data types in Python.\n",
    "\n",
    "### Integers\n",
    "\n",
    "Let's say we want to perform an arithmetical operation `(205+308)* 16` and assign the result to the variable `result_1`.\n",
    "\n",
    "You can run the cell by clicking the `Run` button on the top or press `shift`+`Enter`. When a cell is executed in Jupyter Notebook, a number will appear on the top left corner, representing the order you have executed the cell. When a cell is still running, an asterisk (*) will appear on the top left corner."
   ]
  },
  {
   "cell_type": "code",
   "execution_count": null,
   "metadata": {
    "scrolled": true
   },
   "outputs": [],
   "source": [
    "# Exercise (this is how we add comment in Python using #)\n",
    "# Perform the arithmetical operation and store as 'result_1'\n",
    "result_1 = (205+308)* 16\n",
    "# print the variable\n"
   ]
  },
  {
   "cell_type": "markdown",
   "metadata": {
    "slideshow": {
     "slide_type": "subslide"
    }
   },
   "source": [
    "### Float\n",
    "We can also do computations with decimal numbers.\n",
    "Let's say we want to calculate `3.25*4.81` and assign the result to the variable `result_2`."
   ]
  },
  {
   "cell_type": "code",
   "execution_count": null,
   "metadata": {},
   "outputs": [],
   "source": [
    "# Exercise\n",
    "# Perform the arithmetical operation and store as 'result_2'\n",
    "result_2 = 3.25*4.81\n",
    "# print the variable\n"
   ]
  },
  {
   "cell_type": "markdown",
   "metadata": {
    "slideshow": {
     "slide_type": "subslide"
    }
   },
   "source": [
    "### String\n",
    "We can also store string (piece of text) as a variable in Python. To represent a piece of text as a string value, we surround the text with either single quotes (`'`) or double quotes (`\"`).\n",
    "\n",
    "_Remarks: Don't mix the single and double quotes in the same string._\n",
    "\n",
    "Let's say we want to assign the word `USD` to the variable `currency` and the word `2019` to the variable `year`."
   ]
  },
  {
   "cell_type": "code",
   "execution_count": null,
   "metadata": {},
   "outputs": [],
   "source": [
    "# Exercise\n",
    "# Store 'USD' as currency\n",
    "currency = \n",
    "# Store '2019' as year\n",
    "year = "
   ]
  },
  {
   "cell_type": "markdown",
   "metadata": {},
   "source": [
    "### The type(), int(), float(), str() functions\n",
    "We can find the type of a variable using the `type()` function.\n",
    "For example, to find the type of the variable `result_1`, we use `type(result_1)`. To display, we can chain the `print()` and `type()` function."
   ]
  },
  {
   "cell_type": "code",
   "execution_count": null,
   "metadata": {},
   "outputs": [],
   "source": [
    "# Exercise\n",
    "# print the type of the vairable result_1\n",
    "\n",
    "\n",
    "# Exercise\n",
    "# print the type of the variable result_2\n",
    "\n"
   ]
  },
  {
   "cell_type": "markdown",
   "metadata": {},
   "source": [
    "Sometimes, we can also convert data from one type to another using the `int()`, `float()` and `str()` function. For example, we can convert variable `result_2` to integer."
   ]
  },
  {
   "cell_type": "code",
   "execution_count": null,
   "metadata": {},
   "outputs": [],
   "source": [
    "# Exercise\n",
    "# Convert result_2 into integer\n",
    "\n",
    "\n",
    "\n",
    "# Convert result_1 into float\n",
    "\n",
    "\n",
    "\n",
    "# Convert year into integer\n",
    "\n",
    "\n",
    "\n",
    "# Try converting currency into float\n"
   ]
  },
  {
   "cell_type": "markdown",
   "metadata": {},
   "source": [
    "## List and Dictionary\n",
    "\n",
    "Storing each data point as a variable would be cumbersome.\n",
    "Fortunately, we can store data more efficiently using __lists__ and __dictionaries__.\n",
    "\n",
    "###  List\n",
    "A __list__ is a mutable, ordered sequence of items. As such, it can be indexed, sliced, and changed. Each element can be accessed using its position in the list.\n",
    "\n",
    "Often we’re working with thousands of data points that are grouped together in a certain way and have an order to them.\n",
    "\n",
    "We need a container that can hold multiple values that we can use to perform operations on.\n",
    "\n",
    "We can use a list, which is an object that represents a sequence of values.\n",
    "\n",
    "For example, we can represent the cities in our dataset as a list, i.e., as a sequence of strings (“Albuquerque”, “Anaheim”, and so on). Sometimes we also use a list to represent a vector.\n",
    "\n",
    "The most basic way to make a list is to create an empty one first, and then adding values to it. To create an empty list, assign a pair of empty brackets `[]` to a variable:\n",
    "\n",
    "    cities = []\n",
    "\n",
    "To add values to a list object, use the `list.append()` method. This method accepts a value and adds it to the end of a list object.\n",
    "\n",
    "    cities.append(\"Albuquerque\")\n",
    "\n",
    "\n",
    "Unlike functions, methods are called using dot notation ( `.` ) on a specific object.\n",
    "\n",
    "Because cities is a list object, the Python interpreter knows that `list.append()` can be used. You can see the methods available to list objects here, https://docs.python.org/3/tutorial/datastructures.html.\n",
    "\n",
    "In the following code snippet, we use the method to add the string\n",
    "”Albuquerque” then the string ”Anaheim” to the list `cities` :\n",
    "\n",
    "\n"
   ]
  },
  {
   "cell_type": "code",
   "execution_count": null,
   "metadata": {},
   "outputs": [],
   "source": [
    "cities = []\n",
    "cities.append(\"Albuquerque\")\n",
    "cities.append(\"Anaheim\")"
   ]
  },
  {
   "cell_type": "markdown",
   "metadata": {},
   "source": [
    "Each time we call `list.append()` , the values in the list `cities` are updated.\n",
    "\n",
    "|command|variable value|\n",
    "|----|----|\n",
    "|`cities = []`|`cities` $\\rightarrow$ `[]`|\n",
    "|`cities.append(\"Albuquerque\")`|`cities` $\\rightarrow$ `[\"Albuquerque\"]`|\n",
    "|`cities.append(\"Anaheim\")`|`cities` $\\rightarrow$ `[\"Albuquerque\", \"Anaheim\"]`|\n",
    "\n",
    "List objects can store values of multiple types. In the following code example, we append a city name first then its violent crime rate:\n",
    "\n"
   ]
  },
  {
   "cell_type": "code",
   "execution_count": null,
   "metadata": {},
   "outputs": [],
   "source": [
    "cities = []\n",
    "cities.append(\"Albuquerque\")\n",
    "cities.append(749)\n",
    "cities.append(\"Anaheim\")\n",
    "cities.append(371)"
   ]
  },
  {
   "cell_type": "markdown",
   "metadata": {},
   "source": [
    "#### Exercise\n",
    "\n",
    "- Create two empty lists: `cities` and `crime_rates`.\n",
    "- Add the following strings to the list `cities`, in the following order:\n",
    "    - \"Albuquerque\"\n",
    "    - \"Anaheim\" \n",
    "    - \"Anchorage\"\n",
    "    - \"Arlington\"\n",
    "    - \"Atlanta\"\n",
    "- Add the following integer values to the list `crime_rates` , in the following order: \n",
    "    - 749\n",
    "    - 371\n",
    "    - 828\n",
    "    - 503\n",
    "    - 1379\n",
    "- Use the `print()` function to display both lists."
   ]
  },
  {
   "cell_type": "code",
   "execution_count": null,
   "metadata": {},
   "outputs": [],
   "source": [
    "# Exercise\n",
    "\n",
    "\n",
    "\n"
   ]
  },
  {
   "cell_type": "markdown",
   "metadata": {},
   "source": [
    "### Accessing elements in a list\n",
    "Each value in the list has an __index__, or position, associated with it.\n",
    "\n",
    "A list starts at index 0 and goes all the way to one less than the total number of\n",
    "values, or elements, in the list.\n",
    "\n",
    "If you have a list with 6 values, for example, the indices will range from 0 to 5.\n",
    "\n",
    "The main quirk of list indices is that to access the first element in a list, we actually use the index value 0 - not 1. The second element is accessed with index value 1, the third element with index value 2, and so on.\n",
    "This is known as __zero indexing__.\n",
    "\n",
    "While many programming languages use zero indexing, some, like MATLAB, do not.\n",
    "\n",
    "| index | 0 | 1 | 2 | 3 | 4|\n",
    "|---|---|---|---|---|----|\n",
    "| values | 749| 371| 828 | 503 | 1379|\n",
    "\n",
    "To return the value that has a given index, pass the integer for the index into bracket notation.\n",
    "\n",
    "In the following code, we access the first, second, and fifth elements in the list `crime rates`. We assign each of the accessed values to new variables:"
   ]
  },
  {
   "cell_type": "code",
   "execution_count": null,
   "metadata": {},
   "outputs": [],
   "source": [
    "crime_rates = [749, 371, 828, 503, 1379]\n",
    "first_value = crime_rates[0]\n",
    "second_value = crime_rates[1]\n",
    "fifth_value = crime_rates[4]"
   ]
  },
  {
   "cell_type": "markdown",
   "metadata": {},
   "source": [
    "The Python interpreter expects that the bracketed integer value will be within the list’s range of indexes.\n",
    "\n",
    "Passing in a non-integer value or an integer value outside of the range of indexes (e.g. index 7 for a list only containing 5 elements) will result in an error.\n",
    "\n",
    "#### Exercise\n",
    "\n",
    "- Select the third element from the list `cities` and assign to the variable `anchorage_str`.\n",
    "- Select the third element from the list `crime_rates` and assign to the new variable `anchorage_cr` ."
   ]
  },
  {
   "cell_type": "code",
   "execution_count": null,
   "metadata": {},
   "outputs": [],
   "source": [
    "# Exercise\n",
    "\n",
    "\n",
    "\n"
   ]
  },
  {
   "cell_type": "markdown",
   "metadata": {},
   "source": [
    "### Retrieving the length of a list\n",
    "\n",
    "You may be wondering how we avoid accidentally looking up a value that’s outside the index of a list.\n",
    "\n",
    "Python’s `len()` function returns the length of a list, or the number of elements in that list. The function returns this value as an integer:"
   ]
  },
  {
   "cell_type": "code",
   "execution_count": null,
   "metadata": {},
   "outputs": [],
   "source": [
    "crime_rates = [749, 371, 828, 503, 1379]\n",
    "len_cr = len(crime_rates)  # Points to the integer value 5."
   ]
  },
  {
   "cell_type": "markdown",
   "metadata": {},
   "source": [
    "If we’re ever unsure about the number of elements in a list, we can pass the list into the `len()` function.\n",
    "\n",
    "Because the `len()` function returns an integer, we can subtract 1 from this number to retrieve the index of the last element."
   ]
  },
  {
   "cell_type": "code",
   "execution_count": null,
   "metadata": {},
   "outputs": [],
   "source": [
    "crime_rates = [749, 371, 828, 503, 1379]\n",
    "last_index = len(crime_rates) - 1\n",
    "# last_value contains the value at index 4\n",
    "# (the last value in the list).\n",
    "last_value = crime_rates[last_index]"
   ]
  },
  {
   "cell_type": "markdown",
   "metadata": {},
   "source": [
    "#### Exercise\n",
    "\n",
    "- Add the lengths of the `cities` and `crime_rates` list objects and assign the sum to `two_sum`."
   ]
  },
  {
   "cell_type": "code",
   "execution_count": null,
   "metadata": {},
   "outputs": [],
   "source": [
    "# Exercise\n",
    "\n",
    "\n",
    "\n"
   ]
  },
  {
   "cell_type": "markdown",
   "metadata": {},
   "source": [
    "### Slicing lists\n",
    "\n",
    "If we have a list containing thousands of values and want to retrieve the ones between index 10 and 500, this would be a lot of work with what we know so far.\n",
    "\n",
    "Fortunately, lists have a feature called __slicing__ that allows you to return all of the values between a starting index and an ending index.\n",
    "\n",
    "When you slice a list, you return a new list containing just the values you’re interested in.\n",
    "\n",
    "The value at the starting index and all of the values in between will be returned. The value at the ending index will not.\n",
    "\n",
    "To slice a list, pass the starting and ending index positions into the brackets as integer values, separated by a colon `:`. In the following code, we use the slice `2:4` to return a new list containing the values at indices 2 and 3:"
   ]
  },
  {
   "cell_type": "code",
   "execution_count": null,
   "metadata": {},
   "outputs": [],
   "source": [
    "crime_rates = [749, 371, 828, 503, 1379]\n",
    "# The following slice selects values at index 2 and 3, but not 4.\n",
    "two_four = crime_rates[2:4]"
   ]
  },
  {
   "cell_type": "markdown",
   "metadata": {},
   "source": [
    "Python also supports negative indexing, where -1 refers to the last element of the list, -2 refers to the second last element of the list."
   ]
  },
  {
   "cell_type": "code",
   "execution_count": null,
   "metadata": {},
   "outputs": [],
   "source": [
    "crime_rates[-3]"
   ]
  },
  {
   "cell_type": "markdown",
   "metadata": {},
   "source": [
    "In the following code, we use the `len()` function to retrieve the total number of elements in the list `crime_rates`, and use it as the ending index:"
   ]
  },
  {
   "cell_type": "code",
   "execution_count": null,
   "metadata": {},
   "outputs": [],
   "source": [
    "# Values at index 2, 3, 4.\n",
    "ending_index = len(crime_rates)\n",
    "two_to_end = crime_rates[2:ending_index] #or crime_rates[2:]"
   ]
  },
  {
   "cell_type": "markdown",
   "metadata": {},
   "source": [
    "We also returned a list `two_to_end` that contains the last three elements in the list `crime_rates` by specifying a slice from the starting index (`2`) to the ending index (`len(crime_rates)`).\n",
    " \n",
    "\n",
    "#### Exercise\n",
    "\n",
    "- Select the second, third, and fourth elements from `cities`, and assign the resulting list to `cities_slice`.\n",
    "- Select the last two elements in `crime_rates` and assign to `cr_slice`."
   ]
  },
  {
   "cell_type": "code",
   "execution_count": null,
   "metadata": {},
   "outputs": [],
   "source": [
    "# Exercise\n",
    "\n",
    "\n",
    "\n"
   ]
  },
  {
   "cell_type": "markdown",
   "metadata": {},
   "source": [
    "## Dictionaries\n",
    "\n",
    "\n",
    "\n",
    "\n",
    "Let’s say we have a set of students, along with their scores from a recent math test:\n",
    "\n",
    "|Student| Tom|Jim|Sue|Ann|\n",
    "|-----|-------|---|---|---|\n",
    "|Score|70|80|85|75|\n",
    "\n",
    "To store the students’ names and their scores, we could use two lists:\n",
    "\n",
    "    students = [\"Tom\", \"Jim\", \"Sue\", \"Ann\"]\n",
    "    scores = [70, 80, 85, 75]\n",
    "\n",
    "To figure out what score `Sue` got on the test, we’d first have to find the index corresponding to the element `Sue` in the `students` list. We'd then have to find the value for that index in `scores`.  Alternatively, we can use a __dictionary__.\n",
    "\n",
    "A dictionary is like a list in that it has indexes, but the indexes aren’t necessarily\n",
    "sequential numbers.\n",
    "\n",
    "We can create our own indexes with values of any data type, including strings.\n",
    "\n",
    "While we initiate a new list with square brackets (`[` ), we create a new dictionary with curly braces ( `{` ). We can make an empty dictionary like this:\n",
    "\n",
    "    scores = {}\n",
    "\n",
    "To add values to an existing dictionary, we specify the index to the left of the equals sign, and the value it should have on the right side. We use square brackets (`[` ) to specify the index.\n",
    "\n",
    "    scores[\"Tom\"] = 70\n",
    "\n",
    "Taken together, we call the index and value __key/value pairs__. In this session, however, we’ll refer to the dictionary values on the right side of the equals sign as elements, just like the elements in a list.\n",
    "\n",
    "The code above will create the index `Tom` in the `scores` dictionary, and associate the element 70 with it.\n",
    "\n",
    "To look up the test score for `Tom` , we would simply write:\n",
    "\n",
    "    scores[\"Tom\"]\n",
    "\n",
    "This would return the element 70 because we associated it with the index `Tom` in the dictionary `scores`.\n",
    "\n",
    "We use square brackets ( `[` ) to add values to dictionaries or look up values. \n",
    "\n",
    "We can add the rest of the students’ scores in the same way:\n",
    "\n",
    "    scores[\"Jim\"] = 80\n",
    "    scores[\"Sue\"] = 85\n",
    "    scores[\"Ann\"] = 75\n",
    "    \n",
    "### Practice populating a dictionary\n",
    "\n",
    "Recall that to create a dictionary, we first define it with curly braces ( `{` ), then add values for specific indexes.\n",
    "\n",
    "We call the values elements, and refer to the indexes as dictionary keys:\n",
    "\n",
    "     students = {}\n",
    "     students[\"Jerry\"] = 60\n",
    "     \n",
    "In the example above, we create an empty dictionary called `students`, then specify that the dictionary key `Jerry` should have the value 60.\n",
    "\n",
    "To find the value (that’s now an element) associated with the dictionary key `Jerry`, we’d look up `Jerry` in the dictionary `students`:\n",
    "\n",
    "    print(students[\"Jerry\"])\n",
    "    \n",
    "The code above would display 60.\n",
    "\n",
    "A dictionary key can be a string, integer, or float:\n",
    "\n",
    "     students[10] = 100\n",
    "     \n",
    "#### Exercise\n",
    "\n",
    "- Create a new dictionary `superhero_ranks`\n",
    "- Assign the value 1 to the key `Ironman` in `superhero_ranks`.\n",
    "- Assign the value 2 to the key `Spiderman`  in `superhero_ranks`."
   ]
  },
  {
   "cell_type": "code",
   "execution_count": null,
   "metadata": {},
   "outputs": [],
   "source": [
    "# Exercise\n",
    "\n",
    "\n",
    "\n"
   ]
  },
  {
   "cell_type": "markdown",
   "metadata": {},
   "source": [
    "### Defining a dictionary with values\n",
    "\n",
    "In the last exercise, we create a dictionary, then specify that the key `Ironman` should have the value 1, and the key `Spiderman` should have the value 2.\n",
    "\n",
    "We do this by entering the dictionary key, then a colon ( `:` ), then the value. We separate each key/value pair with a comma. If we wanted to, we could add more presidents like this:\n",
    "\n",
    "         president_ranks = {\n",
    "             \"FDR\": 1,\n",
    "             \"Lincoln\": 2,\n",
    "             \"Aquaman\": 3,\n",
    "             \"Clinton\": 4,\n",
    "             \"Obama\": 5\n",
    "         }\n",
    "    \n",
    "We can use this technique to specify as many key/value pairs as we’d like.\n",
    "\n",
    "#### Exercise\n",
    "\n",
    "- Create a dictionary named `animals` with the following keys and values: \n",
    "    - The key `7`  corresponding to the value `raven` .\n",
    "    - The key `8`  corresponding to the value  `goose` .\n",
    "    - The key `9` corresponding to the value `duck`  .\n",
    "\n",
    "\n",
    "- Create a dictionary named times with the following keys and values: \n",
    "    - The key `morning`  corresponding to the value `9`.\n",
    "    - The key `afternoon`  corresponding to the value `14`.\n",
    "    - The key  `evening` corresponding to the value `19` .\n",
    "    - The key  `night` corresponding to the value `23` ."
   ]
  },
  {
   "cell_type": "code",
   "execution_count": null,
   "metadata": {},
   "outputs": [],
   "source": [
    "# Exercise\n",
    "\n",
    "\n",
    "\n"
   ]
  },
  {
   "cell_type": "markdown",
   "metadata": {},
   "source": [
    "### Modifying dictionary values\n",
    "We can modify the elements in a dictionary, just like we can with a list:\n",
    "\n",
    "     students = {\n",
    "         \"Tom\": 60,\n",
    "         \"Jim\": 70 }\n",
    "         \n",
    "For example, we can replace the element we’ve associated with a key:\n",
    "\n",
    "     students[\"Tom\"] = 65\n",
    "     \n",
    "The code above would change the element for the key `Tom` to 65.\n",
    "\n",
    "We can also modify an existing element:\n",
    "\n",
    "     students[\"Tom\"] = students[\"Tom\"] + 5\n",
    "     \n",
    "The code above would add 5 to the value for the key `Tom` .\n",
    "\n",
    "\n",
    "#### Exercise\n",
    "- Create the dictionary `students` as at the top of the slide.\n",
    "- Add the key `Ann` and value 85 to the dictionary `students` .\n",
    "- Replace the value for the key `Tom` with 80.\n",
    "- Add 5 to the value for the key `Jim`  ."
   ]
  },
  {
   "cell_type": "code",
   "execution_count": null,
   "metadata": {},
   "outputs": [],
   "source": [
    "# Exercise\n",
    "\n",
    "\n",
    "\n"
   ]
  },
  {
   "cell_type": "markdown",
   "metadata": {},
   "source": [
    "## For-loop, Booleans and If Statements"
   ]
  },
  {
   "cell_type": "markdown",
   "metadata": {},
   "source": [
    "### `for` loops\n",
    "\n",
    "    for city in cities:\n",
    "        print(city)\n",
    "    \n",
    "This code uses a type of loop called a for loop. We can break the for loop down into two main components: the for loop itself, and the loop body that contains the code we want to run during each iteration.\n",
    "\n",
    "Here are the things you need to include in each of these components:\n",
    "\n",
    "for Loop\n",
    "- Syntax - the words `for` and `in` need to be included in the statement\n",
    "- Iterator variable - the variable name you decide to use to refer to each element in the list ( `city`)\n",
    "- Sequence - the variable you want to iterate over (`cities`)\n",
    "- Colon - loop statements must end with a colon (`:`)\n",
    "\n",
    "Loop Body\n",
    "- Indentation - every line of code within the loop should be indented four spaces\n",
    "- Logic - the actual code we want to execute for each element. In the above code block, for example, we update the iterator variable ( `city` ) in each iteration of the loop.\n",
    "\n",
    "Here’s a diagram displaying the values for `city` and the `print()` statement during\n",
    "each iteration of the loop:\n",
    "\n",
    "|`city`| `print(city)`|\n",
    "|---|---|\n",
    "|`Austin`| `print(\"Austin\")`|\n",
    "|`Dallas`| `print(\"Dallas\")`|\n",
    "|`Houston`| `print(\"Houston\")`|\n",
    "\n",
    "The iterator variable, `city` , is a temporary variable that’s only accessible within the for loop.\n",
    "The very basic loop body we wrote above only contains one line of code. To write a loop body with multiple lines of code, we need to indent that code consistently (using four spaces). For example, the following code will run the `print()` statement three times for each element in `cities` :\n",
    "\n",
    "    for city in cities:\n",
    "        print(city)\n",
    "        print(city)\n",
    "        print(city)\n",
    "        \n",
    "### The `range()` function\n",
    "\n",
    "If you do need to iterate over a sequence of numbers, the built-in function `range()` comes in handy. It generates arithmetic progressions:\n",
    "\n",
    "     for i in range(5):\n",
    "         print(i)\n",
    "         \n",
    "The given end point is never part of the generated sequence; `range(10)` generates 10 values, the legal indices for items of a sequence of length 10.\n",
    "\n",
    "It is possible to let the range start at another number, or to specify a different increment (even negative; sometimes this is called the ‘step’):\n",
    "\n",
    "    range(5, 10)\n",
    "    range(0, 10, 3)\n",
    "    range(-10, -100, -30)\n",
    "\n",
    "The first statement above generates a sequence 5 through 9, the second statement generates 0, 3, 6, 9 and the third -10, -40, -70.\n",
    "        \n",
    "#### Exercise\n",
    "\n",
    "$$ x = [1,2,3,4,5,6,7,8,9]$$\n",
    "$$ y = [9,8,7,6,5,4,3,2,1]$$\n",
    "- The inner product of vector $x$ and $y$ is defined as the sum of the elementwise product of the two vectors.\n",
    "- Write a for loop that:\n",
    "    - iterates over each element in vector `x` and `y`\n",
    "    - compute the elementwise product and store the sum of all elementwise product"
   ]
  },
  {
   "cell_type": "code",
   "execution_count": null,
   "metadata": {},
   "outputs": [],
   "source": [
    "# Exercise\n",
    "\n",
    "\n",
    "\n"
   ]
  },
  {
   "cell_type": "markdown",
   "metadata": {},
   "source": [
    "### `for` loop in dictionary\n",
    "\n",
    "You can access the keys, the values or the (key,value) pairs in a dictionary in a for loop with the `.keys()`, `.values`. and `.items()` methods on the dictionary.\n"
   ]
  },
  {
   "cell_type": "code",
   "execution_count": null,
   "metadata": {},
   "outputs": [],
   "source": [
    "students = {\"Tom\": 60, \"Jim\": 70, \"Peter\":90, \"Mary\":99, \"Paul\":55 }\n",
    "for k in students.keys():\n",
    "    print ('Name of student:', k)\n",
    "    \n",
    "for v in students.values():\n",
    "    print ('Result:', v)\n",
    "    \n",
    "for k,v in students.items():\n",
    "    print ('{} got {} marks.'.format(k,v))"
   ]
  },
  {
   "cell_type": "markdown",
   "metadata": {},
   "source": [
    "### Booleans\n",
    "\n",
    "\n",
    "In this session, we’ll learn how to express __conditional logic__. We can use conditional logic to add criteria to the code we write. Some examples of operations that use criteria include:\n",
    "\n",
    "- Finding all the integers in a list that are greater than 5.\n",
    "- Identifying which elements in a list are strings, and printing only those values.\n",
    "\n",
    "We can break down both of these examples into logic that we can code:\n",
    "- For each integer in a list, if the integer is greater than 5, add to the list `greater_than_five`.\n",
    "- For each element in a list, if the value has a string data type, use the `print()` function to display it; if it’s not a string, ignore it.\n",
    "\n",
    "Python has a class called __Boolean__ that helps express conditional logic. There are only two Boolean values: `True` and `False` .\n",
    "\n",
    "Because they’re words, Boolean values may look like strings, but they’re an entirely separate class. For example, string operations like concatenation won’t work with Booleans.\n",
    "\n",
    "*In Jupyter notebook, a Boolean variable syntax is green to distinguish itself from other code. If you typed a Boolean variable but it does not turn green, you may want to check the spelling and capitalization.*\n",
    "\n",
    "\n",
    "#### Exercise\n",
    "The following code example assigns `True` to `t` and `False` to `f` :\n",
    "\n",
    "    t = True\n",
    "    f = False\n",
    "\n",
    "If we display the data type for either `t` or `f` , we’ll see `class ‘bool’` , shorthand for Boolean.\n",
    "\n",
    "- Assign the value `True` to the variable `cat` , and the value `False` to the variable `dog`.\n",
    "- Then, use the `print()` function and the `type()` function to display the type for `cat`."
   ]
  },
  {
   "cell_type": "code",
   "execution_count": null,
   "metadata": {},
   "outputs": [],
   "source": [
    "# Exercise\n",
    "\n",
    "\n",
    "\n"
   ]
  },
  {
   "cell_type": "markdown",
   "metadata": {},
   "source": [
    "### Boolean operators\n",
    "\n",
    "Python has comparison operators that allow us to compare variables:\n",
    "\n",
    "-  `==` returns `True` if both variables are equivalent, and `False` if they're different\n",
    "-  `!=` returns `True` if both variables are different, and `False` if they're equivalent\n",
    "-  `>` returns `True` if the first variable is greater than the second variable, and `False` otherwise\n",
    "-  `<` returns `True` if the first variable is less than the second variable, and `False` otherwise\n",
    "-  `>=` returns `True` if the first variable is greater than or equal to the second variable, and `False` otherwise\n",
    "-  `<=` returns `True` if the first variable is less than or equal to the second variable, and `False` otherwise\n",
    "\n",
    "For now let’s focus on the equality operators ( `==` and `!=` ). To compare two variables, place the operator between them. We recommend adding a space before and after the operator for better readability:\n",
    "\n",
    "    print(8 == 8) # True\n",
    "    print(8 != 8) # False\n",
    "    print(8 == 10) # False\n",
    "    print(8 != 10) # True\n",
    "    \n",
    "We can assign the result of a comparison to a Boolean variable:\n",
    "\n",
    "     # Use parentheses for cleaner code.\n",
    "     t = (8 == 8) # True\n",
    "     u = (8 != 8) # False\n",
    "     \n",
    "We can also compare strings, floats, Booleans, and even lists:\n",
    "\n",
    "     # All of these return True.\n",
    "     \"8\" == \"8\"\n",
    "     [\"January\", \"February\"] == [\"January\", \"February\"]\n",
    "     5.0 == 5.0\n",
    "     \n",
    "\n",
    "\n",
    "### Booleans with “greater than”\n",
    "\n",
    "We can use the greater than operator ( `>` ) to test whether one value is larger than another. Similarly, the greater than or equal to operator ( `>=` ) determines if one value is larger than or equal to a second value:\n",
    "\n",
    "     rates = [10, 15, 20]\n",
    "     rates[0] > rates[1] # False\n",
    "     rates[0] >= rates[0] # True\n",
    "     \n",
    "\n",
    "### Booleans with “less than”\n",
    "\n",
    "We can use the less than operator ( `<` ) to test whether one value is smaller than another value.\n",
    "Similarly, the less than or equal to operator ( `<=` ) determines if one value is smaller than or equal to another value:\n",
    "    \n",
    "    rates = [10, 15, 20]\n",
    "    rates[0] < rates[1] # True\n",
    "    rates[0] <= rates[0] # True"
   ]
  },
  {
   "cell_type": "markdown",
   "metadata": {},
   "source": [
    "### `if` statements\n",
    "\n",
    "To complement Booleans, Python contains the __if__ operator.\n",
    "\n",
    "We can use this operator to write a statement that tests whether certain conditions exist. Our `if` statement will evaluate to either `True` or `False`, and only run the specified code when `True`.\n",
    "\n",
    "For example, the following code checks whether the integer value assigned to `sample_rate` is larger than 5. This is referred to as a __conditional statement__.\n",
    "\n",
    "It assigns the Boolean result to `greater`, and uses the `print()` function to display `sample_rate` if greater is `True`:"
   ]
  },
  {
   "cell_type": "code",
   "execution_count": null,
   "metadata": {},
   "outputs": [],
   "source": [
    "sample_rate = 749\n",
    "greater = (sample_rate > 5)\n",
    "if greater: # This is the conditional statement\n",
    "    print(sample_rate)"
   ]
  },
  {
   "cell_type": "markdown",
   "metadata": {},
   "source": [
    "We can also specify the conditional statement inside the `if` statement:"
   ]
  },
  {
   "cell_type": "code",
   "execution_count": null,
   "metadata": {},
   "outputs": [],
   "source": [
    "if sample_rate > 5:            #This is the conditional statement.\n",
    "    print(sample_rate)"
   ]
  },
  {
   "cell_type": "markdown",
   "metadata": {},
   "source": [
    "Similar to `for` loops, we need to format `if` statements in the following way:\n",
    "- End the conditional statement with a colon (`:`)\n",
    "- Indent the code (that we want run when `True`) below the conditional statement\n",
    "\n",
    "Also similar to `for` loops, `if` statements can contain multiple lines in the body, as long as their indentation aligns.\n",
    "\n",
    "    t = True\n",
    "    f = False\n",
    "    if t:\n",
    "        print(\"Now you see me\")\n",
    "    if f:\n",
    "        print(\"Now you don’t\")\n",
    "\n",
    "#### Exercise\n",
    "- Define the variable `result` equal to 0.\n",
    "- Determine whether the third element in `cities` is equivalent to the string `\"Anchorage\"` .\n",
    "- If it is, change the variable `result` to 1."
   ]
  },
  {
   "cell_type": "code",
   "execution_count": null,
   "metadata": {},
   "outputs": [],
   "source": [
    "# Exercise\n",
    "\n",
    "\n",
    "\n"
   ]
  },
  {
   "cell_type": "markdown",
   "metadata": {},
   "source": [
    "#### Exercise\n",
    "Using `if` statements and `for` loops, find the maximum and minimum of vector `crime_rates`."
   ]
  },
  {
   "cell_type": "code",
   "execution_count": null,
   "metadata": {},
   "outputs": [],
   "source": [
    "# Exercise\n",
    "\n",
    "\n",
    "\n"
   ]
  },
  {
   "cell_type": "markdown",
   "metadata": {},
   "source": [
    "### The `in` statement and dictionaries\n",
    "\n",
    "In the last session, we used the `in` statement to check whether an element occurred\n",
    "in a list:\n",
    "\n",
    "     animals = [\"Cat\", \"Dog\"]\n",
    "     found = \"Cat\" in animals\n",
    "     \n",
    "We can also use the `in` statement to check whether a key occurs in a dictionary:\n",
    "\n",
    "    students = {\n",
    "    \"Tom\": 60,\n",
    "    \"Jim\": 70 }\n",
    "    \n",
    "`Tom` in `students` would return `True`, and `Sue` in `students` woud return in `False`.\n",
    "\n",
    "#### Exercise\n",
    "\n",
    "- Create a dictionary `planet_numbers = {\"mercury\": 1, \"venus\": 2, \"earth\": 3, \"mars\": 4}`\n",
    "- Check whether `jupiter`  is a key in `planet_numbers` , and assign the resulting Boolean value to `jupiter_found`.\n",
    "- Check whether `earth`  is a key in `planet_numbers` , and assign the resulting Boolean value to `earth_found`."
   ]
  },
  {
   "cell_type": "code",
   "execution_count": null,
   "metadata": {},
   "outputs": [],
   "source": [
    "# Exercise\n",
    "\n",
    "\n",
    "\n"
   ]
  },
  {
   "cell_type": "markdown",
   "metadata": {},
   "source": [
    "### The `else` statement\n",
    "\n",
    "We learned about the `if` statement in a previous session. The `if` statement runs a\n",
    "segment of code if a condition is `True` :\n",
    "\n",
    "    if temperature > 50:\n",
    "        print(\"It’s hot!\")\n",
    "\n",
    "We can also print a different message if the temperature is less than or equal to 50:\n",
    "\n",
    "     if temperature > 50:\n",
    "         print(\"It’s hot!\")\n",
    "     if temperature <= 50:\n",
    "         print(\"It’s cold!\")\n",
    "         \n",
    "Performing different actions depending on whether a condition is true or false is a common scenario in programming. The `else` statement offers a simpler way to do this:\n",
    "\n",
    "    if temperature > 50:\n",
    "             print(\"It’s hot!\")\n",
    "    else:\n",
    "        print(\"It’s cold!\")\n",
    "             \n",
    "The code above is much simpler than the previous example, but results in the same outcome.\n",
    "\n",
    "#### Practicing with `else` statement\n",
    "\n",
    "Else statements allow us to simplify our code. Here’s an example:\n",
    "\n",
    "     scores = [80, 100, 60, 30]\n",
    "     high_scores = []\n",
    "     low_scores = []\n",
    "     for score in scores:\n",
    "         if score > 70:\n",
    "             high_scores.append(score)\n",
    "         else:\n",
    "             low_scores.append(score)\n",
    "             \n",
    "The code above will add a `score` to `high_scores` if `score` is greater than 70, and to `low_scores` otherwise.\n",
    "\n",
    "#### Exercise\n",
    "- Create three lists\n",
    "\n",
    "      planet_names = [\"Mercury\", \"Venus\", \"Earth\", \"Mars\",\"Jupiter\", \"Saturn\", \"Neptune\", \"Uranus\"]\n",
    "      long_names = []\n",
    "      short_names = []\n",
    "-  Append any names in `planet_names` that are longer than 5 characters to `long_names` . Otherwise, append the names to `short_names` . To accomplish this:\n",
    "\n",
    "- Loop through each item in `planet_names` .\n",
    "- Use the `len()` function to find the length of the item.\n",
    "- If the length is greater than 5, append the item to `long_names` .\n",
    "- Otherwise, append it to `short_names`.\n",
    "- When complete,`short_names` should contain any planet names less than 6 characters long, and `long_names` should contain any planet names 6 characters or longer."
   ]
  },
  {
   "cell_type": "code",
   "execution_count": null,
   "metadata": {},
   "outputs": [],
   "source": [
    "# Exercise\n",
    "\n",
    "\n",
    "\n"
   ]
  },
  {
   "cell_type": "markdown",
   "metadata": {},
   "source": [
    "## More list comprehension\n",
    "\n",
    "### Enumerate\n",
    "There are many situations where we’ll need to iterate over multiple lists in tandem, such as this one:\n",
    "\n",
    "     animals = [\"Dog\", \"Tiger\", \"SuperLion\", \"Cow\", \"Panda\"]\n",
    "     viciousness = [1, 5, 10, 10, 1]\n",
    "     for animal in animals:\n",
    "         print(\"Animal\")\n",
    "         print(animal)\n",
    "         print(\"Viciousness\")\n",
    "         \n",
    "In the example above, we have two lists. The second list describes the viciousness of the animals in the first list. \n",
    "\n",
    "A `Dog` has a viciousness level of 1, and a `SuperLion` has a viciousness level of 10.\n",
    "\n",
    "We want to retreieve the position of the item in `animals` the loop is currently on, so we can use it to look up the corresponding value in the `viciousness` list.\n",
    "\n",
    "Unfortunately, we can't just loop through `animals`, and then tap into the second list.\n",
    "\n",
    "Python has an `enumerate()` funciton that can help us with this.\n",
    "\n",
    "The `enumerate()` function allows us to have two variables in the body of a `for` loop - an index and the value.\n",
    "\n",
    "    for i, animal in enumerate(animals):\n",
    "         print(\"Animal Index\")  ## label\n",
    "         print(i)\n",
    "         print(\"Animal\") ## label\n",
    "         print(animal)\n",
    "\n",
    "On every iteration of the loop, the value for `i` will become the value of the index in `animals` that corresponds to that iteration; `animal` will take on the value in `animals` that corresponds to the index `i`.\n",
    "\n",
    "    animals = [\"Dog\", \"Tiger\", \"SuperLion\", \"Cow\", \"Panda\"]\n",
    "    viciousness = [1, 5, 10, 10, 1]\n",
    "    for i, animal in enumerate(animals):\n",
    "        print(\"Animal\")\n",
    "        print(animal)\n",
    "        print(\"Viciousness\")\n",
    "        print(viciousness[i])"
   ]
  },
  {
   "cell_type": "markdown",
   "metadata": {},
   "source": [
    "### List compressions\n",
    "\n",
    "We’ve written many short for-loops to manipulate lists. Here’s an example:\n",
    "\n",
    "     animals = [\"Dog\", \"Tiger\", \"SuperLion\", \"Cow\", \"Panda\"]\n",
    "     animal_lengths = []\n",
    "     for animal in animals:\n",
    "         animal_lengths.append(len(animal))\n",
    "\n",
    "It takes three lines to calculate the length of each string in `animals` this way. However, we can condense this down to one line with a list comprehension:\n",
    "\n",
    "     animal_lengths = [len(animal) for animal in animals]\n",
    "     \n",
    "This comprehension consists of the list operation `len(animal)` , the loop variable `animal` , and the list that we’re iterating over, `animals` .\n",
    "\n",
    "\n",
    "Logically, the list comprehension:\n",
    "- Loops through each element in the `animals` list and assigns the current element to `animal`\n",
    "- Finds the length of each `animal` string\n",
    "- Generates a new list that contains all of the lengths as elements\n",
    "- Assigns the new list to `animal_lengths`\n",
    "\n",
    "#### Exercise\n",
    "\n",
    "- Create the list\n",
    "    apple_prices = [100, 101, 102, 105]\n",
    "- Use list comprehension to create a new list called `apple_prices_doubled` , where you multiply each item in `apple_prices` by 2.\n",
    "\n",
    "- Use list comprehension to create a new list called `apple_prices_lowered` , where you subtract 100 from each item in `apple_prices`."
   ]
  },
  {
   "cell_type": "code",
   "execution_count": null,
   "metadata": {},
   "outputs": [],
   "source": [
    "# Exercise\n",
    "\n",
    "\n",
    "\n"
   ]
  },
  {
   "cell_type": "markdown",
   "metadata": {},
   "source": [
    "## More Flow Control\n",
    "\n",
    "\n",
    "### `break` and `continue` statements\n",
    "\n",
    "The `break` statement, like in C, breaks out of the innermost enclosing `for`(`while`) loop.\n",
    "\n",
    "Loop statements may have an `else` clause; it is executed when the loop terminates through exhaustion of the list (with `for` ) or when the condition becomes false (with `while` ), but not when the loop is terminated by a `break` statement. This is exemplified by the following loop, which searches for prime numbers:\n",
    "\n",
    "\n",
    "     for n in range(2, 10):\n",
    "            for x in range(2, n):\n",
    "                if n % x == 0:\n",
    "                    print(n, ’equals’, x, ’*’, n//x)\n",
    "                    break\n",
    "            else:\n",
    "                # loop fell through without finding a factor\n",
    "                print(n, ’is a prime number’)\n",
    "                \n",
    "The `continue` statement, also borrowed from C, continues with the next iteration of the loop:\n",
    "\n",
    "    for num in range(2, 10):\n",
    "        if num % 2 == 0:\n",
    "            print(\"Found an even number\", num)\n",
    "            continue\n",
    "        print(\"Found a number\", num)"
   ]
  },
  {
   "cell_type": "markdown",
   "metadata": {},
   "source": [
    "## Debugging Errors\n",
    "\n",
    "### What type of Python error message do you get?\n",
    "\n",
    "It is natural to get error messages when you are coding, especially for beginners. Reading the error messages generated by Python can be very helpful in identifying the problem in your code syntax. Here are some common types of error messages in Python:\n",
    "\n",
    "__Attribute Error__\n",
    "- You are calling a method on the wrong type of object.\n",
    "\n",
    "__SyntaxError__\n",
    "- You have forgotten the quotation marks (“ ”) around a string.\n",
    "- You have forgotten to put a colon (:) at the end of a def/if/for line - You have different numbers of open and close brackets\n",
    "\n",
    "__TypeError__\n",
    "- You are trying to use an operator on wrong type of object\n",
    "- You have used non-integer numbers when slicing a list\n",
    "- An object you expect to have a value is actually None\n",
    "- You have called a method or function with the wrong number or type of arguments (input to a function).\n",
    "\n",
    "__Indentation Error__\n",
    "- You have used a mixture of tabs and spaces\n",
    "- You have not indented all lines in a block equally\n",
    "- You have not indented when Python expects you to\n",
    "\n",
    "__NameError__\n",
    "- You have forgotten to define a variable\n",
    "- You have misspelt a variable, function or method name\n",
    "- You have forgotten to import a module or a package\n",
    "- Your code uses a variable outside the scope (e.g. within the function) where it is defined\n",
    "- Your code calls a function before it has been defined\n",
    "- You are trying to print a single word and have forgotten the quotation marks\n",
    "\n",
    "__IOError__\n",
    "- You are trying to open a file that doesn’t exist - You are in the wrong directory\n",
    "\n",
    "__IndexError__\n",
    "- The index that you have given to a sequence is out of range \n",
    "\n",
    "__Key Error__\n",
    "- You are trying to look up a key that does not exist in a dictionary\n",
    "\n",
    "__ValueError__\n",
    "- You are trying to perform numerical operations on arrays with different dimensions\n",
    "\n",
    "- You have given an argument with the right type but inappropriate value to a function or to an operation\n",
    "\n"
   ]
  }
 ],
 "metadata": {
  "kernelspec": {
   "display_name": "Python 3",
   "language": "python",
   "name": "python3"
  },
  "language_info": {
   "codemirror_mode": {
    "name": "ipython",
    "version": 3
   },
   "file_extension": ".py",
   "mimetype": "text/x-python",
   "name": "python",
   "nbconvert_exporter": "python",
   "pygments_lexer": "ipython3",
   "version": "3.7.3"
  }
 },
 "nbformat": 4,
 "nbformat_minor": 2
}
