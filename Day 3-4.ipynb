{
 "cells": [
  {
   "cell_type": "markdown",
   "metadata": {},
   "source": [
    "## Files and Loops\n",
    "\n",
    "In this session, we’ll learn how to work with files and use loops to iterate through lists. We’ll be working with crime rate data for 73 cities in the United States.\n",
    "Datasets are often represented in files that you can download and manipulate.\n",
    "Before we get started, we’ll first need to learn how to work with files in Python.\n",
    "\n",
    "\n",
    "### Open files\n",
    "\n",
    "To open a file in Python, we use the `open()` function. This function accepts two different arguments (inputs) in the parentheses, always in the following order:\n",
    "\n",
    "- the name of the file (as a string)\n",
    "- the mode of working with the file (as a string)\n",
    "\n",
    "We’ll learn about the various modes later. For now, we’ll just use `\"r\"` , the mode for\n",
    "reading in files.\n",
    "\n",
    "For example, to open a file named `story.txt` in read mode, we write the following:\n",
    "\n",
    "    open(\"story.txt\", \"r\")\n",
    "\n",
    "The `open()` function returns a File object. This object stores the information we passed in, and allows us to call methods specific to the File class. We can assign the File object to a variable so we can refer to it later:\n",
    "\n",
    "    a = open(\"story.txt\", \"r\")\n",
    "\n",
    "Note that the File object, `a` , won’t contain the actual contents of the file. It’s instead an object that acts as an interface to the file and contains methods for reading in and modifying the file’s contents (which we’ll cover on the next slide).\n",
    "\n",
    "#### Exercise\n",
    "\n",
    "- Use the `open()` function to create a File object.\n",
    "- The name of the file to open is `\"movie_metadata.csv\"` . Access the file in read mode ( `\"r\"` ).\n",
    "- Assign this File object to the variable `f`."
   ]
  },
  {
   "cell_type": "code",
   "execution_count": null,
   "metadata": {},
   "outputs": [],
   "source": [
    "# Exercise\n",
    "#open('movie_metadata.csv','r')\n",
    "\n",
    "movie_file = open('movie_metadata.csv', 'r')\n",
    "movie_data = movie_file.read()\n",
    "print(movie_data)"
   ]
  },
  {
   "cell_type": "markdown",
   "metadata": {},
   "source": [
    "### Reading from files\n",
    "File objects have a `read()` method that returns a string representation of the text in a file.\n",
    "\n",
    "Unlike the `append()` method from the previous session, the `read()` method returns a value instead of modifying the object that calls the method.\n",
    "\n",
    "In the following code, we use the `read()` function to read the contents of `\"test.txt\"` into a File object, and assign that object to `g` :\n",
    "\n",
    "\n",
    "    f = open(\"test.txt\", \"r\")\n",
    "    g = f.read()\n",
    "\n",
    "Since `g` is a string, we can use the `print()` function to display the contents of the file:\n",
    "\n",
    "    f = open(\"test.txt\", \"r\")\n",
    "    g = f.read()\n",
    "    print(g)\n",
    "\n",
    "#### Exercise\n",
    "\n",
    "- Run the `read()` method on the File object `f` to return the string representation of `movie_metadata.csv`.\n",
    "- Assign the resulting string to a new variable named `data`."
   ]
  },
  {
   "cell_type": "code",
   "execution_count": null,
   "metadata": {},
   "outputs": [],
   "source": [
    "# Exercise\n",
    "movie_file = open('movie_metadata.csv', 'r')\n",
    "movie_data = movie_file.read()\n",
    "#print(movie_data)\n",
    "split_data = movie_data.split('\\n')"
   ]
  },
  {
   "cell_type": "code",
   "execution_count": null,
   "metadata": {},
   "outputs": [],
   "source": [
    "rows = []\n",
    "for i in split_data[:]:\n",
    "    #print('current i: ',i)\n",
    "    split_row = i.split(',')\n",
    "    #print('result of split: ',split_row)\n",
    "    rows.append(split_row)\n",
    "    \n",
    "print(rows[0])"
   ]
  },
  {
   "cell_type": "code",
   "execution_count": null,
   "metadata": {},
   "outputs": [],
   "source": [
    "print(rows[1])"
   ]
  },
  {
   "cell_type": "code",
   "execution_count": null,
   "metadata": {},
   "outputs": [],
   "source": [
    "print(rows[2])"
   ]
  },
  {
   "cell_type": "code",
   "execution_count": 11,
   "metadata": {},
   "outputs": [
    {
     "name": "stdout",
     "output_type": "stream",
     "text": [
      "[178, 169, 148, 164, 136]\n",
      "total duration:  527922\n",
      "mean duration:  107.04014598540147\n"
     ]
    }
   ],
   "source": [
    "movie_file = open('movie_metadata.csv', 'r')\n",
    "movie_data = movie_file.read()\n",
    "split_data = movie_data.split('\\n')\n",
    "\n",
    "rows = []\n",
    "for i in split_data[:]:\n",
    "    split_row = i.split(',')\n",
    "    rows.append(split_row)\n",
    "\n",
    "# extract the duration of every movie\n",
    "# compute the average duration\n",
    "# call it mean_duration\n",
    "# print it\n",
    "movie_durations = []\n",
    "duration = 0\n",
    "for item in rows[1:]:\n",
    "    if len(item[3]) > 0:\n",
    "        duration = int(item[3])\n",
    "    else:\n",
    "        duration = 0\n",
    "    movie_durations.append(duration)\n",
    "    \n",
    "print(movie_durations[:5])\n",
    "\n",
    "total_duration = 0\n",
    "for i in movie_durations:\n",
    "    total_duration = total_duration + i\n",
    "    \n",
    "mean_duration = total_duration/len(movie_durations)\n",
    "print('total duration: ', total_duration)\n",
    "print('mean duration: ', mean_duration)"
   ]
  },
  {
   "cell_type": "markdown",
   "metadata": {},
   "source": [
    "### Splitting\n",
    "To make our string object data more useful, let’s convert it into a list. Here’s a preview of how the dataset looks:\n",
    "\n",
    "    movie_title,director_name,color,duration,actor_1_name,language,country,title_year\\nAvatar,James Cameron,Color,178,CCH Pounder,English,USA,2009\n",
    "\n",
    "Each line is separated by the string `\\n` , which is referred to as the new-line character. When we open a text file in a text editor, the editor will automatically split the text\n",
    "and create a new line wherever it sees the string `\\n` .\n",
    "\n",
    "In Python, we can use the `split()` method to turn a string object into a list of\n",
    "strings, like so:\n",
    "\n",
    "    [\"Avatar,James Cameron,Color,178,CCH Pounder,English,USA,2009\", \n",
    "    \"Pirates of the Caribbean: At World's End,Gore Verbinski,Color,169,Johnny Depp,English,USA,2007\", \n",
    "    \"Spectre,Sam Mendes,Color,148,Christoph Waltz,English,UK,2015\"]\n",
    "\n",
    "The `split()` method takes a string input corresponding to the delimiter, or separator. This delimiter determines how the string is split into elements in a list.\n",
    "\n",
    "For example, the delimiter for the crime rate data we just looked at is `\\n` . Many other files use commas to separate elements:\n",
    "\n",
    "     sample = \"john,plastic,joe\"\n",
    "     split_list = sample.split(\",\")\n",
    "     # split_list is a list of _strings_: [\"john\", \"plastic\", \"joe\"]\n",
    "     \n",
    "#### Exercise\n",
    "- Split the string object `data` on the new-line character `\"\\n\"` , and store the result in a variable named `rows`.\n",
    "- Then, use the `print()` function to display the first five elements in `rows`."
   ]
  },
  {
   "cell_type": "code",
   "execution_count": null,
   "metadata": {},
   "outputs": [],
   "source": [
    "# Exercise\n",
    "\n"
   ]
  },
  {
   "cell_type": "markdown",
   "metadata": {},
   "source": [
    "## Introduction to Functions\n",
    "\n",
    "### Motivating functions\n",
    "A function is a packaged body of code that we can reuse by __calling__ with the relevant parameters.\n",
    "The parameters that a function takes are called the inputs of the function, and the result that it returns is called the __output__.\n",
    "\n",
    "Other than reusability, there are 3 main advantages of using functions:\n",
    "- They allow us to use other people’s code without the necessity to have a deep understanding of how it was written. We call this __information hiding__.\n",
    "- They break down complex logic into smaller components or modules. We refer to this as __modularity__. Modularity makes it easier for someone else to read, understand, use, and build upon our code.\n",
    "- They streamline our code and make it easier to maintain. Programmers reuse the same functions in multiple situations across a project. This means that they generalize the function as much as possible to maximize its usefulness. We call this process __abstraction__."
   ]
  },
  {
   "cell_type": "markdown",
   "metadata": {},
   "source": [
    "### Writing our own functions\n",
    "The syntax for defining a function consists of 5 parts:\n",
    "- `def` keyword - For Python to interpret the following code as a function\n",
    "- Name - To refer to when we need to call the function later\n",
    "- Arguments - Input value(s) that the function takes in\n",
    "- Body - The code that the function executes\n",
    "- Return value - The value that the function returns to the user when the function terminates\n",
    "\n",
    "Let us examine the syntax further, using an example function that returns the first element of a list:\n",
    "\n",
    "    def first_elt(input_lst):\n",
    "        first = input_lst[0]\n",
    "        return first\n",
    "\n",
    "Things to note:\n",
    "- Indentation of the function: after the colon, we indent the remainder of the function by one `tab` , which is the equivalent of 4 `space bar` strokes.\n",
    "- `first` and `input_lst` are temporary variables, which means that they are only accessible inside the function.\n",
    "\n",
    "#### Exercise\n",
    "\n",
    "- Write a function, with a definition, name, argument(s), body and return value, that returns a list containing the names of the movies in `movie_data`.\n",
    "- This function is expected to behave similar to `first_elt()` on previous slide, but for multiple lists.\n",
    "    - Give the function a name that describes what it does; `first_elts()` is a good example, but feel free to be creative.\n",
    "    - Declare an empty list.\n",
    "    - Use a `for` loop to extract the first element of each list, and append these elements to the empty list.\n",
    "    - Return the list.\n",
    "- Assign the returned list to `movie_names` .\n",
    "- Display the first 5 elements of `movie_names` using the `print()` function."
   ]
  },
  {
   "cell_type": "code",
   "execution_count": null,
   "metadata": {},
   "outputs": [],
   "source": [
    "# Exercise\n",
    "\n",
    "\n",
    "\n"
   ]
  },
  {
   "cell_type": "markdown",
   "metadata": {},
   "source": [
    "### Function with multiple return paths\n",
    "\n",
    "Even though we suggested return signifies the end of a function, a function can have multiple return statements.\n",
    "We can take advantage of this to add an if statement that returns a value if a certain criteria is met, and another value otherwise. For example,\n",
    "\n",
    "     def is_blah(input_lst):\n",
    "         if input_lst[0] == \"blah\":\n",
    "             return True\n",
    "         else:\n",
    "             return False\n",
    "    \n",
    "Notice that there is a further layer of indentation after the `if` and `else` statements.\n",
    "\n",
    "#### Exercise\n",
    "\n",
    "- Write a function named `is_usa()` that checks whether or not a movie was made in the United States.\n",
    "    - Check the `movie_metadata.csv` file to see which column corresponds to the nationality of the movie. Don’t forget to subtract one to find the true index of the column in the list.\n",
    "    - Use an `if` statement to check the right column of the list with the word ”USA”. The equality operation is case sensitive, so make sure to get the capitilization right.\n",
    "    - Return `True` if the condition is met, and `False` otherwise.\n",
    "\n",
    "- Try it with a few movies in `movie_data`.\n",
    "- Call it on `wonder_woman` and store the result in `wonder_woman_usa`.\n",
    "\n",
    "        wonder_woman = [’Wonder Woman’,’Patty Jenkins’,’Color’,141, ’Gal Gadot’,’English’,’USA’,2017]"
   ]
  },
  {
   "cell_type": "code",
   "execution_count": null,
   "metadata": {},
   "outputs": [],
   "source": [
    "# Exercise\n",
    "\n",
    "\n"
   ]
  },
  {
   "cell_type": "markdown",
   "metadata": {},
   "source": [
    "### Functions with multiple arguments\n",
    "\n",
    "If we wanted to check if the first value of the 7th column is ”UK” instead, we would have to write a completely separate function:\n",
    "\n",
    "     def is_uk(input_lst):\n",
    "         if input_lst[6] == \"UK\":\n",
    "             return True\n",
    "         else:\n",
    "             return False\n",
    "             \n",
    "However, you can see that this function is almost the same with `is_usa()` , except for the string they check for.\n",
    "\n",
    "This can give us the intuition that there is another layer of abstraction we can perform.\n",
    "\n",
    "We could write a function that takes in two inputs, namely, the list and the string to check for:\n",
    "\n",
    "    def equals_str(input_lst,input_str):\n",
    "         if input_lst[0] == input_str:\n",
    "            return True\n",
    "        else:\n",
    "            return False\n",
    "\n",
    "Now, `is_usa(input_lst)` behaves the same way as `equals_str(input_lst, \"USA\")` and `is_uk(input_lst)` behaves the same way as `equals_str(input_lst, \"UK\")`."
   ]
  },
  {
   "cell_type": "markdown",
   "metadata": {},
   "source": [
    "### Functions with multiple arguments\n",
    "\n",
    "Because there is more than one argument in this function, the order with which we call the arguments becomes important.\n",
    "\n",
    "For example, `equals_str(movie_data[4], \"UK\")` would be correct; however, `equals_str(movie_data[4])` would not, because the function expects to get the list first and the string second.\n",
    "\n",
    "If we want to override this, we have to used __named arguments__ instead of the default,\n",
    "__positional arguments__.\n",
    "\n",
    "If we explicitly write the names of the arguments as we provide them, their positions\n",
    "become unimportant.\n",
    "\n",
    "This means that `equals_str(input str=\"UK\",input lst=movie data[4])` does not result in an error.\n",
    "\n",
    "Naming arguments does not add any functionality, but it may embellish the readability of the code, which is important if you are working on a team.\n",
    "\n",
    "Finally, we can abstract out another layer by adding a third argument that will determine which column of the list the checked attribute is.\n",
    "\n",
    "#### Exercise\n",
    "\n",
    "- Write a function `index_equals_str()` that takes in three arguments: a list, an index and a string, and checks whether that index of the list is equal to that string.\n",
    "- Call the function with a different order of the inputs, using named arguments.\n",
    "- Call the function on `wonder_woman` to check whether or not it is a movie in color, store it in `wonder_woman_in_color`, and print the value.\n",
    "\n",
    "        wonder_woman = [’Wonder Woman’,’Patty Jenkins’,’Color’,141,’Gal Gadot’,’English’,’USA’,2017]"
   ]
  },
  {
   "cell_type": "code",
   "execution_count": null,
   "metadata": {},
   "outputs": [],
   "source": [
    "# Exercise\n",
    "\n",
    "\n",
    "\n"
   ]
  },
  {
   "cell_type": "markdown",
   "metadata": {},
   "source": [
    "### Optional arguments\n",
    "\n",
    "Function can also have optional __arguments__.\n",
    "\n",
    "Optional arguments have default values that they take on unless a different value is\n",
    "provided by the user.\n",
    "\n",
    "Let’s say we want to count the number of movies in the list `movie_data` . Our intuition might be to do the following:\n",
    "\n",
    "     def naive_counter(input_lst):\n",
    "         num_elt = 0\n",
    "         for each in input_lst:\n",
    "             num_elt = num_elt + 1\n",
    "         return num_elt\n",
    "\n",
    "However, if we attempt to call this function with `movie_data` as its argument, we get a wrong answer.\n",
    "\n",
    "This is because the first item in the list is a header row and is also counted by the counter.\n",
    "\n",
    "Of course, we can get around this by subtracting one from the result, but manipulating the function that way would cause it to be unusable in cases where there is no header row.\n",
    "\n",
    "This is not generalizable, so it is not a neat solution.\n",
    "\n",
    "Instead, we can use an argument that has a default value that can be manipulated:\n",
    "\n",
    "     def counter(input_lst,header_row = False):\n",
    "         num_elt = 0\n",
    "         if header_row == True:\n",
    "             input_lst = input_lst[1:len(input_lst)]\n",
    "         for each in input_lst:\n",
    "             num_elt = num_elt + 1\n",
    "         return num_elt\n",
    "         \n",
    "Now, the function will behave as we expected:\n",
    "\n",
    "     print(counter(movie_data))\n",
    "     # returns 4933\n",
    "     print(counter(movie_data, True))\n",
    "     # returns 4932\n",
    "     \n",
    "If we are concerned about the readability of our code by co-workers, we can name the optional argument as well:\n",
    "\n",
    "     >>> print(counter(movie_data, header_row = True))\n",
    "     4932\n",
    "     \n",
    "#### Exercise\n",
    "\n",
    "- Write a function named  `feature_counter()` that combines the logic of the `index _equals_str()` and  `counter()` functions.\n",
    "- Use this to find out how many of the movies were made in USA, and store the value in `num_of_us_movies` ."
   ]
  },
  {
   "cell_type": "code",
   "execution_count": null,
   "metadata": {},
   "outputs": [],
   "source": [
    "# Exercise \n",
    "\n",
    "\n",
    "\n"
   ]
  },
  {
   "cell_type": "markdown",
   "metadata": {},
   "source": [
    "### Calling a function inside another function\n",
    "\n",
    "Now, we have all the tools we need to create the statistics summary function we explained in the beginning of the session.\n",
    "\n",
    "However, we would like `summary_statistics()` to be a function itself, and re-writing all of the code inside  `feature_counter()` in `summary_statistics()` defies the purpose of using a function.\n",
    "\n",
    "You may remember that one of the big advantages of using a function is abstraction: the fact that it saves us from having to write the same code twice.\n",
    "\n",
    "In this vein, the last feature of functions that we will use is the ability to call a function inside another function.\n",
    "\n",
    "The body of one function can include a call to another function.\n",
    "\n",
    "Let’s say we want to build a function `list_counter()` that will count the elements in multiple lists, and make a separate list holding these values. This is how we want the function to operate:\n",
    "\n",
    "     >>> lists = [[\"dog\",\"cat\",\"rabbit\"],[1,2,3,4],[True]]\n",
    "         >>> list_count = (list_counter(lists))\n",
    "         >>> print(list_count)\n",
    "         [3,4,1]\n",
    "         \n",
    "Even though this seems like a complicated problem, because we have a counter function, it will not take more than 6 lines:\n",
    "\n",
    "     def list_counter(input_lst):\n",
    "         final_list = []\n",
    "         for each in input_lst:\n",
    "             num_elt = counter(each)\n",
    "             final_list.append(num_elt)\n",
    "         return final_list\n",
    "\n",
    "As you can see, we called the user-defined function `counter()` and assigned its return value to `num_elt`.\n",
    "\n",
    "Each time the for loop starts, the counter will be called with a different argument (the current value assigned to each), and return a different value. Whenever we define a new function, we can call it inside another function using this syntax.\n",
    "\n",
    "#### Exercise\n",
    "\n",
    "Write a `summary_statistics()` function that will take `movie_data` as input, and output a dictionary that will give useful numbers from the data.\n",
    "\n",
    "- Define `summary_statistics()` with one argument, an input list.\n",
    "- Use the `feature_counter()` with the relevant arguments to count the following properties and make them equal to the corresponding variables.\n",
    "    - Assign the number of movies made in Japan to `num_japan_films`.\n",
    "    - Assign the number of movies in color to `num_color_films`.\n",
    "    - Assign the number of movies in English to `num_films_in_english`.\n",
    "    \n",
    "- Create a dictionary that associates the keys (`japan_films`, `color_films`, `films_in_english`) with the correpsonding variables.\n",
    "\n",
    "- Return the dictionary.\n",
    "\n",
    "Call the function with `movie_data` as its input, and store its value in summary."
   ]
  },
  {
   "cell_type": "code",
   "execution_count": null,
   "metadata": {},
   "outputs": [],
   "source": [
    "# Exercise\n",
    "\n",
    "\n"
   ]
  },
  {
   "cell_type": "markdown",
   "metadata": {},
   "source": [
    "### `lambda` expressions\n",
    "\n",
    "Small anonymous functions can be created with the `lambda` keyword.\n",
    "\n",
    "This function returns the sum of its two arguments: `lambda a, b: a+b `.\n",
    "\n",
    "Lambda functions can be used wherever function objects are required. They are syntactically restricted to a single expression. Semantically, they are just syntactic sugar for a normal function definition. Like nested function definitions, lambda functions can reference variables from the containing scope:\n",
    "\n",
    "    def make_incrementor(n):\n",
    "        return lambda x: x + n\n",
    "    f = make_incrementor(42)\n",
    "    print(f(0))\n",
    "    print(f(1))\n",
    "\n",
    "The above example uses a lambda expression to return a function.\n",
    "\n",
    "#### Exercise\n",
    "Write a lambda expression that gives $f(x) = x_1 + x_2 - x_4^2$."
   ]
  },
  {
   "cell_type": "code",
   "execution_count": null,
   "metadata": {},
   "outputs": [],
   "source": [
    "# Exercise\n",
    "\n",
    "\n",
    "\n",
    "\n"
   ]
  },
  {
   "cell_type": "markdown",
   "metadata": {},
   "source": [
    "## Numpy basics\n",
    "\n",
    "### Introducing NumPy\n",
    "\n",
    "From the first Session, we learned that Python lists offer a few advantages when representing data:\n",
    "\n",
    "- Lists can contain mixed types\n",
    "- Lists can shrink and grow dynamically\n",
    "\n",
    "Using Python lists to represent and work with data also has a few key disadvantages:\n",
    "- To support their flexibility, lists tend to consume lots of memory\n",
    "- They struggle to work with medium and larger sized datasets\n",
    "\n",
    "While there are many different ways to classify programming languages, an important way that keeps performance in mind is the difference between __low-level__ and __high-level languages__.\n",
    "\n",
    "Python is a high-level programming language that allows us to quickly write, prototype, and test our logic.\n",
    "The C programming language, on the other hand, is a low-level programming language that is highly performant but has a much slower human workflow.\n",
    "\n",
    "NumPy is a library that combines the flexibility and ease-of-use of Python with the speed of C.\n",
    "\n",
    "### Creating arrays\n",
    "\n",
    "The core data structure in NumPy is the `ndarray` object, which stands for __N-dimensional array__. An array is a collection of values, similar to a list. __N-dimensional__ refers to the number of indices needed to select individual values from the object.\n",
    "\n",
    "A 1-dimensional array is often called a __vector__ while a 2-dimensional array is called a __matrix__. Both of these terms are borrowed from linear algebra.\n",
    "\n",
    "\n",
    "![](n-dimarray.png)\n",
    "\n",
    "To use NumPy, we first need to import it into our environment. NumPy is commonly imported using the alias `np` :\n",
    "\n",
    "    import numpy as np\n",
    "\n",
    "We can directly construct arrays from lists using the `numpy.array()` function. To construct a vector, we need to pass in a single list (without nesting):\n",
    "\n",
    "     vector = np.array([5, 10, 15, 20])\n",
    "     \n",
    "The `numpy.array()` function also accepts a list of lists, which we use to create a matrix (where each sublist is a row of the matrix):\n",
    "\n",
    "    matrix = np.array([[5, 10, 15], [20, 25, 30], [35, 40, 45]])\n",
    "\n",
    "#### Exercise\n",
    "\n",
    "- Create a vector from the list `[10, 20, 30]`, assign the result to the variable `vector` .\n",
    "- Create a matrix from the list of lists `[[5, 10, 15], [20, 25, 30], [35, 40, 45]]`, assign the result to the variable `matrix` ."
   ]
  },
  {
   "cell_type": "code",
   "execution_count": null,
   "metadata": {},
   "outputs": [],
   "source": [
    "# Exercise\n",
    "\n",
    "\n",
    "\n"
   ]
  },
  {
   "cell_type": "markdown",
   "metadata": {},
   "source": [
    "### Array shape\n",
    "\n",
    "Arrays have a certain number of elements. The array below has 5 elements:\n",
    "\n",
    "|1986| Western Pacific| Viet Nam| Wine| 0|\n",
    "|----|---|---|----|---|\n",
    "\n",
    "Matrices instead use rows and columns, which matches how we thought about datasets in the first session.\n",
    "The matrix below has 3 rows and 5 columns, often referred to as a 3 by 5 matrix:\n",
    "\n",
    "\n",
    "\n",
    "|row\\col |1|2|3|4|5|\n",
    "|----|---|---|----|---|---|\n",
    "|1|1986| Western Pacific| Viet Nam| Wine| 0|\n",
    "|2|1986|Americas|Uruguay|Other|0.5|\n",
    "|3|1985|Africa|Cote d’Ivoire|Wine|1.62|\n",
    "\n",
    "It’s often useful to know how many elements an array contains.\n",
    "\n",
    "We can use the `ndarray.shape` property to figure out how many elements are in the array.\n",
    "\n",
    "For vectors, the shape property contains a tuple with 1 element. A tuple is a kind of list where the elements can’t be changed.\n",
    "\n",
    "     vector = np.array([1, 2, 3, 4])\n",
    "     print(vector.shape)\n",
    "     \n",
    "The code above would result in the tuple `(4,) `. This tuple indicates that the array vector has one dimension, with length 4, which matches our intuition that vector has 4 elements.\n",
    "\n",
    "For matrices, the shape property contains a tuple with 2 elements.\n",
    "\n",
    "     matrix = np.array([[5, 10, 15], [20, 25, 30]])\n",
    "     print(matrix.shape)\n",
    "     \n",
    "The above code will result in the tuple `(2,3)` indicating that matrix has 2 rows and 3 columns.\n",
    "\n",
    "#### Exercise\n",
    "\n",
    "- Assign the shape of `vector` to `vector_shape`.\n",
    "- Assign the shape of `matrix` to `matrix_shape`.\n",
    "- Display both `vector_shape` and `matrix_shape` using the `print()` function."
   ]
  },
  {
   "cell_type": "code",
   "execution_count": null,
   "metadata": {},
   "outputs": [],
   "source": [
    "# Exercise\n",
    "\n",
    "\n",
    "\n"
   ]
  },
  {
   "cell_type": "markdown",
   "metadata": {},
   "source": [
    "### Elementwise operations\n",
    "\n",
    "We can perform elementwise operations on numpy arrays. For example, `a-b` gives elementwise difference of vector $a$ and $b$.\n",
    "\n",
    "As an example of elementwise division, let’s find the 3-vector of asset returns $r$ from the (numpy arrays of) initial and final prices of assets.\n",
    "\n",
    "    import numpy as np\n",
    "    p_initial = np.array([22.15, 89.32, 56.77])\n",
    "    p_final = np.array([23.05, 87.32, 53.13])\n",
    "    r =(p_final - p_initial)/ p_initial\n",
    "    r\n",
    "    >>>array([ 0.04063205, -0.0223914 , -0.06411837])"
   ]
  },
  {
   "cell_type": "markdown",
   "metadata": {},
   "source": [
    "### Numpy inbuilt functions\n",
    "\n",
    "Numpy has a wide variety of inbuild functions that comes handy when you are trying to code a specific operation of your own. Every function has a different name and they require different arguments and give different output. Google the function that you need and read the corresponding Numpy documentation is often what we recommend our students to do. \n",
    "\n",
    "Other useful numpy functions:\n",
    "- stacking and concatenating: `np.concatenate(), np.vstack(), np.hstack()`\n",
    "- algebric operations: ` np.linalg.norm(), np.mean(), np.std(), np.matmul(), np.transpose`\n",
    "- mathematics functions: `np.sin(), np.cos(), np.exp(), np.log(), np.arccos()`\n",
    "- index operations: `np.where(), np.unique()`\n"
   ]
  },
  {
   "cell_type": "markdown",
   "metadata": {},
   "source": [
    "We can do a lot more by combining your own function and numpy inbuilt functions.\n",
    "For example, say we want to define a function that calculates the nearest neighbour of a vector in a list of vectors.\n",
    "\n",
    "    def near_neigh(x,z):\n",
    "        distance = []\n",
    "        for vector in z:\n",
    "            distance.append(np.linalg.norm(x - vector))\n",
    "        return z[np.argmin(distance)]"
   ]
  },
  {
   "cell_type": "markdown",
   "metadata": {},
   "source": [
    "#### Exercise\n",
    "\n",
    "Define a function that computes the angle between two vectors.\n",
    "$$ \\theta = \\mathrm{cos}^{-1} \\left( \\frac{x^T y}{\\|x\\| \\|y\\|} \\right) $$"
   ]
  },
  {
   "cell_type": "code",
   "execution_count": null,
   "metadata": {},
   "outputs": [],
   "source": [
    "# Exercise\n",
    "\n",
    "\n",
    "\n"
   ]
  },
  {
   "cell_type": "markdown",
   "metadata": {},
   "source": [
    "#### Exercise\n",
    "Write a function that computes the 2-norm of a vector. Call the function on vector $z = (1,2,3,4,5)$. The 2-norm of a vector is given by\n",
    "$$\\|x\\|_2 = \\left( \\sum_i x_i^2 \\right)^{\\frac{1}{2}}$$"
   ]
  },
  {
   "cell_type": "code",
   "execution_count": null,
   "metadata": {},
   "outputs": [],
   "source": [
    "# Exercise\n",
    "\n",
    "\n",
    "\n"
   ]
  },
  {
   "cell_type": "markdown",
   "metadata": {},
   "source": [
    "#### Exercise\n",
    "Recall from BUSS1020, to standardize a variable, we subtracting its mean and divide by its standard deviation.\n",
    "Write a function `standardize ` which standardize a vector."
   ]
  },
  {
   "cell_type": "code",
   "execution_count": null,
   "metadata": {},
   "outputs": [],
   "source": [
    "# Exercise\n",
    "\n",
    "\n",
    "\n"
   ]
  },
  {
   "cell_type": "markdown",
   "metadata": {},
   "source": [
    "### NumPy strengths and weaknesses\n",
    "\n",
    "You should now have a good foundation in NumPy, and in handling issues with your data.\n",
    "\n",
    "NumPy is much easier to work with than lists of lists, because:\n",
    "- It’s easy to perform algebric operations.\n",
    "- Data indexing and slicing is faster and easier.\n",
    "- We can convert data types quickly.\n",
    "- There are many inbuilt functions that we can use!\n",
    "\n",
    "Overall, NumPy makes working with data in Python much more efficient. It’s widely used for this reason, especially for machine learning.\n",
    "\n",
    "You may have noticed some limitations with NumPy. For example:\n",
    "- All of the items in an array must have the same data type. For many datasets, this can make arrays cumbersome to work with.\n",
    "- Columns and rows must be referred to by number, which gets confusing when you go back and forth from column name to column number.\n",
    "- NumPy performance can degrade when dealing with very large multi-dimensional arrays\n",
    "\n",
    "In the next few sessions, we’ll learn about the Pandas library, one of the most popular data analysis libraries.\n",
    "\n",
    "Pandas builds on NumPy, but does a better job addressing the limitations of NumPy."
   ]
  },
  {
   "cell_type": "markdown",
   "metadata": {},
   "source": [
    "## Pandas basics\n",
    "\n",
    "Pandas is a package that unifies the most common workflows for which data analysts and data scientists previous relied on many different packages. So it had quickly became an important tool in a data professional's toolbelt and is the most popular library for working with tabular data in Python.\n",
    "\n",
    "To represent tabular data, pandas uses a custom data structure called a __dataframe__. A dataframe is a highly efficient, 2-dimensional data structure that provides a suite of methods and attributes to quickly explore, analyse and visualise data. It is similar to a Numpy 2D array but supports many more features that help you working with tabular/panel data.\n",
    "\n",
    "Pandas dataframes also handle missing values gracefully (NaN).\n",
    "\n",
    "In this section, you will learn the basics of pandas while exploring the portfolio dataset. The data set contains the daily returns of 19 stocks and 1 risk-free assts over a period of 2517 days.\n"
   ]
  },
  {
   "cell_type": "code",
   "execution_count": null,
   "metadata": {},
   "outputs": [],
   "source": [
    "# Import the pandas package\n",
    "import pandas as pd\n",
    "# Read the data file and use the first row (index 0) as header\n",
    "data = pd.read_csv(\"portfolio_data.csv\", sep=\",\", header=0)"
   ]
  },
  {
   "cell_type": "markdown",
   "metadata": {},
   "source": [
    "#### Exploring the dataframe"
   ]
  },
  {
   "cell_type": "code",
   "execution_count": null,
   "metadata": {},
   "outputs": [],
   "source": [
    "# Look at first 5 rows\n",
    "data.head() #or 10?"
   ]
  },
  {
   "cell_type": "code",
   "execution_count": null,
   "metadata": {},
   "outputs": [],
   "source": [
    "# Look at the last 5 rows\n",
    "data.tail() #or 10?"
   ]
  },
  {
   "cell_type": "code",
   "execution_count": null,
   "metadata": {},
   "outputs": [],
   "source": [
    "# Look at all column names\n",
    "data.columns"
   ]
  },
  {
   "cell_type": "code",
   "execution_count": null,
   "metadata": {},
   "outputs": [],
   "source": [
    "# Look at dataset dimension\n",
    "data.shape"
   ]
  },
  {
   "cell_type": "code",
   "execution_count": null,
   "metadata": {},
   "outputs": [],
   "source": [
    "# Summary statistics\n",
    "summary_stats = data.describe()\n",
    "summary_stats"
   ]
  },
  {
   "cell_type": "markdown",
   "metadata": {},
   "source": [
    "#### Compute the stock return\n",
    "Let's compute the stock (log) return for 3 stocks: 'Bank of America Corporation', 'Intel Corporation', 'Tiffany & Co.'"
   ]
  },
  {
   "cell_type": "code",
   "execution_count": null,
   "metadata": {},
   "outputs": [],
   "source": [
    "#Select 3 stocks and make a copy\n",
    "\n",
    "\n",
    "#subsample.head()"
   ]
  },
  {
   "cell_type": "markdown",
   "metadata": {},
   "source": [
    "Say, we are interested in the days when log return of Bank of America is above 0.025.\n",
    "We can filter the dataframe using Boolean conditions."
   ]
  },
  {
   "cell_type": "code",
   "execution_count": null,
   "metadata": {},
   "outputs": [],
   "source": [
    "# Filtering\n",
    "mask = \n",
    "BOA_high_return =\n",
    "#BOA_high_return.shape"
   ]
  },
  {
   "cell_type": "markdown",
   "metadata": {},
   "source": [
    "#### Dataframe Indexing"
   ]
  },
  {
   "cell_type": "code",
   "execution_count": null,
   "metadata": {},
   "outputs": [],
   "source": [
    "# DataFrame indexing\n",
    "data.iloc[0,0]"
   ]
  },
  {
   "cell_type": "code",
   "execution_count": null,
   "metadata": {},
   "outputs": [],
   "source": [
    "data.loc[0, 'American Express Company']"
   ]
  },
  {
   "cell_type": "markdown",
   "metadata": {},
   "source": [
    "#### Plotting with dataframe"
   ]
  },
  {
   "cell_type": "code",
   "execution_count": null,
   "metadata": {},
   "outputs": [],
   "source": [
    "import matplotlib.pyplot as plt\n",
    "import seaborn as sns\n",
    "\n",
    "sns.lineplot(subsample.index, subsample['log return Bank of America Corporation'])"
   ]
  },
  {
   "cell_type": "code",
   "execution_count": null,
   "metadata": {},
   "outputs": [],
   "source": [
    "sns.heatmap(data.corr(), \n",
    "            xticklabels=data.corr().columns.values,\n",
    "            yticklabels=data.corr().columns.values)\n",
    "plt.title('Correlation Matrix')"
   ]
  },
  {
   "cell_type": "markdown",
   "metadata": {},
   "source": [
    "Note that operations in Pandas datframes and NumPy arrays is generally applied in different ways. Pandas is genearlly method based and numpy is generally function based.\n",
    "\n",
    "For example,\n",
    "\n",
    "Operations in Pandas : `dataframe.sum(), dataframe.mean(), dataframe.unique()`\n",
    "\n",
    "Operations in Numpy : `np.sum(np.array()), np.mean(np.array()) np.isin(np.array(), np.array())`"
   ]
  },
  {
   "cell_type": "code",
   "execution_count": null,
   "metadata": {},
   "outputs": [],
   "source": []
  }
 ],
 "metadata": {
  "kernelspec": {
   "display_name": "Python 3",
   "language": "python",
   "name": "python3"
  },
  "language_info": {
   "codemirror_mode": {
    "name": "ipython",
    "version": 3
   },
   "file_extension": ".py",
   "mimetype": "text/x-python",
   "name": "python",
   "nbconvert_exporter": "python",
   "pygments_lexer": "ipython3",
   "version": "3.7.6"
  }
 },
 "nbformat": 4,
 "nbformat_minor": 4
}
